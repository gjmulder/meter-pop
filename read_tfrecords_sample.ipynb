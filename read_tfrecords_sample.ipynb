{
 "cells": [
  {
   "cell_type": "code",
   "execution_count": 1,
   "metadata": {},
   "outputs": [
    {
     "name": "stdout",
     "output_type": "stream",
     "text": [
      "Populating the interactive namespace from numpy and matplotlib\n"
     ]
    }
   ],
   "source": [
    "import tensorflow as tf\n",
    "from meta import Meta\n",
    "%pylab inline\n",
    "from matplotlib.patches import Rectangle"
   ]
  },
  {
   "cell_type": "code",
   "execution_count": 2,
   "metadata": {},
   "outputs": [],
   "source": [
    "filename = 'data/test.tfrecords'\n",
    "filename_queue = tf.train.string_input_producer([filename], num_epochs=None)"
   ]
  },
  {
   "cell_type": "code",
   "execution_count": 3,
   "metadata": {},
   "outputs": [],
   "source": [
    "reader = tf.TFRecordReader()\n",
    "_, serialized_example = reader.read(filename_queue)\n",
    "features = tf.parse_single_example(\n",
    "  serialized_example,\n",
    "  features={\n",
    "      'image': tf.FixedLenFeature([], tf.string),\n",
    "      'length': tf.FixedLenFeature([], tf.int64),\n",
    "      'digits': tf.FixedLenFeature([5], tf.int64)\n",
    "  })"
   ]
  },
  {
   "cell_type": "code",
   "execution_count": 4,
   "metadata": {},
   "outputs": [],
   "source": [
    "image = tf.decode_raw(features['image'], tf.uint8)\n",
    "image = tf.reshape(image, [64, 64, 3])\n",
    "length = features['length']\n",
    "digits = features['digits']"
   ]
  },
  {
   "cell_type": "code",
   "execution_count": 5,
   "metadata": {},
   "outputs": [],
   "source": [
    "sess = tf.InteractiveSession()\n",
    "coord = tf.train.Coordinator()\n",
    "threads = tf.train.start_queue_runners(coord=coord)"
   ]
  },
  {
   "cell_type": "code",
   "execution_count": 6,
   "metadata": {},
   "outputs": [
    {
     "ename": "SyntaxError",
     "evalue": "invalid syntax (<ipython-input-6-b62b94ed5f84>, line 3)",
     "output_type": "error",
     "traceback": [
      "\u001b[0;36m  File \u001b[0;32m\"<ipython-input-6-b62b94ed5f84>\"\u001b[0;36m, line \u001b[0;32m3\u001b[0m\n\u001b[0;31m    print 'length: %d, digits: %d,%d,%d,%d,%d' % (\u001b[0m\n\u001b[0m                                             ^\u001b[0m\n\u001b[0;31mSyntaxError\u001b[0m\u001b[0;31m:\u001b[0m invalid syntax\n"
     ]
    }
   ],
   "source": [
    "(image_val, length_val, digits_val) = sess.run([image, length, digits])\n",
    "\n",
    "print 'length: %d, digits: %d,%d,%d,%d,%d' % (\n",
    "    length_val, digits_val[0], digits_val[1], digits_val[2], digits_val[3], digits_val[4])\n",
    "\n",
    "imshow(image_val)"
   ]
  },
  {
   "cell_type": "code",
   "execution_count": 7,
   "metadata": {},
   "outputs": [
    {
     "name": "stdout",
     "output_type": "stream",
     "text": [
      "num_train_examples: 30101\n",
      "num_val_examples: 3300\n",
      "num_test_examples: 13068\n"
     ]
    }
   ],
   "source": [
    "meta = Meta()\n",
    "meta.load('data/meta.json')\n",
    "print 'num_train_examples: %d' % meta.num_train_examples\n",
    "print 'num_val_examples: %d' % meta.num_val_examples\n",
    "print 'num_test_examples: %d' % meta.num_test_examples"
   ]
  },
  {
   "cell_type": "code",
   "execution_count": 8,
   "metadata": {},
   "outputs": [],
   "source": [
    "coord.request_stop()\n",
    "coord.join(threads)\n",
    "sess.close()"
   ]
  }
 ],
 "metadata": {
  "kernelspec": {
   "display_name": "Python 3",
   "language": "python",
   "name": "python3"
  },
  "language_info": {
   "codemirror_mode": {
    "name": "ipython",
    "version": 3
   },
   "file_extension": ".py",
   "mimetype": "text/x-python",
   "name": "python",
   "nbconvert_exporter": "python",
   "pygments_lexer": "ipython3",
   "version": "3.5.3"
  }
 },
 "nbformat": 4,
 "nbformat_minor": 2
}
